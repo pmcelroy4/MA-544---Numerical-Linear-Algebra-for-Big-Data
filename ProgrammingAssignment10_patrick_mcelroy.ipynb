{
 "cells": [
  {
   "cell_type": "markdown",
   "metadata": {},
   "source": [
    "# Programming Assignment - 10\n",
    "---\n",
    "## Name: Patrick McElroy\n",
    "---"
   ]
  },
  {
   "cell_type": "code",
   "execution_count": 209,
   "metadata": {},
   "outputs": [],
   "source": [
    "# Import required packages\n",
    "import numpy as np\n",
    "import random\n",
    "import matplotlib.pyplot as plt\n",
    "from scipy import sparse\n",
    "from scipy.sparse import csr_matrix\n",
    "from scipy.sparse import coo_matrix\n",
    "\n",
    "import time\n",
    "\n",
    "np.random.seed(100)\n",
    "%matplotlib inline"
   ]
  },
  {
   "attachments": {
    "buckydem_02.png": {
     "image/png": "[encoded data removed]"
    }
   },
   "cell_type": "markdown",
   "metadata": {},
   "source": [
    "## Question 1\n",
    "---\n",
    "Create the sparse COO representation ( [ref](https://docs.scipy.org/doc/scipy/reference/generated/scipy.sparse.coo_matrix.html#scipy.sparse.coo_matrix)) of the adjacency matrix (no need to find the dense representation) of the following graph. Find its CSR representation using appropriate Python function. Visualize this matrix by using spy() function. Refer to the notebook of Lecture 10 live session. \n",
    "\n",
    "![buckydem_02.png](attachment:buckydem_02.png)\n",
    "\n",
    "[Image source: Mathworks](https://in.mathworks.com/help/examples/matlab/win64/buckydem_02.png)"
   ]
  },
  {
   "cell_type": "code",
   "execution_count": 202,
   "metadata": {},
   "outputs": [
    {
     "data": {
      "text/plain": [
       "<matplotlib.lines.Line2D at 0x7fbbea3d0cd0>"
      ]
     },
     "execution_count": 202,
     "metadata": {},
     "output_type": "execute_result"
    },
    {
     "data": {
      "image/png": "[encoded data removed]",
      "text/plain": [
       "<Figure size 640x480 with 1 Axes>"
      ]
     },
     "metadata": {},
     "output_type": "display_data"
    }
   ],
   "source": [
    "# Your code comes here\n",
    "row = np.array([])\n",
    "for i in range(0,60):\n",
    "    row = np.append(row, np.array([i]*3))\n",
    "\n",
    "\n",
    "col = np.array([2, 5, 6, 1, 3, 11, 2, 4, 16, 3, 5, 21, 1, 4, 26, 1, 7, 10, 6, 8, 30, 7, 9, 42, 8, 10, 38, 6, 9, 12,\n",
    "                2, 12, 15, 10, 11, 13, 12, 14, 37, 13, 15, 33, 11, 14, 17, 3, 17, 20, 15, 16, 18, 17, 19, 32, 18, 20, 53, 16, 19, 22,\n",
    "                4, 22, 25, 20, 21, 23, 22, 24, 52, 23, 25, 48, 21, 24, 27, 5, 27, 30, 25, 26, 28, 27, 29, 47, 28, 30, 43, 7, 26, 29,\n",
    "                32, 35, 54, 18, 31, 33, 14, 32, 34, 33, 35, 36, 31, 34, 56, 34, 37, 40, 13, 36, 38, 9, 37, 39, 38, 40, 41, 36, 39, 57,\n",
    "                39, 42, 45, 8, 41, 43, 29, 42, 44, 43, 45, 46, 41, 44, 58, 44, 47, 50, 28, 46, 48, 24, 47, 49, 48, 50, 51, 46, 49, 59,\n",
    "                49, 52, 55, 23, 51, 53, 19, 52, 54, 31, 53, 55, 51, 54, 60, 35, 57, 60, 40, 56, 58, 45, 57, 59, 50, 58, 60, 55, 56, 59])\n",
    "\n",
    "\n",
    "data = np.array([1]*180)\n",
    "\n",
    "col = col-data\n",
    "\n",
    "\n",
    "coo_mat  = coo_matrix((data, (row,col)), shape=(60, 60))\n",
    "\n",
    "csr_mat = csr_matrix(coo_mat.toarray())\n",
    "\n",
    "plt.spy(csr_mat)"
   ]
  },
  {
   "cell_type": "markdown",
   "metadata": {},
   "source": [
    "## Question 2\n",
    "---\n",
    ">- Write a Python function that returns the dominating eigenvalue-eigenvector pair of a given square matrix by using the power method. \n",
    "\n",
    ">- Create a second version of the code that does the same for a sparse matrix given in CSR format.\n",
    "\n",
    ">- Generate a random sparse matrix $A$ of uniformly distributed random numbers between -1 and 1 of order $100 \\times 100$ which is around 95% sparse.\n",
    "\n",
    ">- Call these two functions and compare the time it takes to calculate the dominating eigen-pair of $A$. Report your observation."
   ]
  },
  {
   "cell_type": "code",
   "execution_count": 203,
   "metadata": {},
   "outputs": [],
   "source": [
    "# Your code comes here\n",
    "\n",
    "def power_method(A, max_iter):\n",
    "    v_old = np.random.rand(A.shape[1]) # Why should you choose randomly\n",
    "    #csrA = csr_matrix(A)\n",
    "    for k in range(max_iter):\n",
    "        v_new = A.dot(v_old)\n",
    "\n",
    "        # Need to normalize\n",
    "        v_new = v_new / np.linalg.norm(v_new)\n",
    "        # Test for convergence\n",
    "        v_old = v_new\n",
    "        \n",
    "    evalue = np.dot(v_new,A.dot(v_new))/np.linalg.norm(v_new)\n",
    "    return v_new, evalue"
   ]
  },
  {
   "cell_type": "code",
   "execution_count": 204,
   "metadata": {},
   "outputs": [],
   "source": [
    "def csr_power_method(Q, max_iter):\n",
    "    Q_csr = csr_matrix(Q)\n",
    "    z = np.random.rand(Q.shape[1]) \n",
    "    z = z / np.linalg.norm(z,ord=1) \n",
    "    alpha=0.85\n",
    "    v = np.ones((Q.shape[1],), dtype=float)\n",
    "    v = v / np.linalg.norm(v,ord=1) \n",
    "    for k in range(max_iter):\n",
    "        y=alpha*Q_csr.dot(z)\n",
    "        beta = 1.0 - np.linalg.norm(y,ord=1)\n",
    "        z = y + beta * v\n",
    "        residual = np.linalg.norm(y-z,ord=1)\n",
    "        if residual < 0.0001:\n",
    "            break\n",
    "    return z"
   ]
  },
  {
   "cell_type": "code",
   "execution_count": 210,
   "metadata": {},
   "outputs": [
    {
     "name": "stdout",
     "output_type": "stream",
     "text": [
      "Power Method Time: 0.01162409782409668\n"
     ]
    }
   ],
   "source": [
    "A = np.array([])\n",
    "\n",
    "for i in range(0,400):\n",
    "    x = random.uniform(-1, 1)\n",
    "    A = np.append(A, np.array([0, 0, 0, 0, 0, 0, 0, 0, 0, 0, 0, 0, 0, 0, 0, 0, 0, 0, 0, 0, 0, 0, 0, 0, x]))\n",
    "A = A.reshape(100, 100)\n",
    "\n",
    "\n",
    "start=time.time()\n",
    "\n",
    "v, eig = power_method(A, 100)\n",
    "\n",
    "end=time.time()\n",
    "sparse_time = end - start\n",
    "print(f\"Power Method Time: {sparse_time}\")"
   ]
  },
  {
   "cell_type": "code",
   "execution_count": 206,
   "metadata": {},
   "outputs": [
    {
     "name": "stdout",
     "output_type": "stream",
     "text": [
      "Sparse time: 0.012153148651123047\n"
     ]
    }
   ],
   "source": [
    "start1=time.time()\n",
    "\n",
    "z = csr_power_method(A, 100)\n",
    "\n",
    "end1=time.time()\n",
    "sparse_time1 = end1 - start1\n",
    "print(f\"Sparse time: {sparse_time1}\")"
   ]
  },
  {
   "cell_type": "code",
   "execution_count": null,
   "metadata": {},
   "outputs": [],
   "source": []
  }
 ],
 "metadata": {
  "kernelspec": {
   "display_name": "Python 3 (ipykernel)",
   "language": "python",
   "name": "python3"
  },
  "language_info": {
   "codemirror_mode": {
    "name": "ipython",
    "version": 3
   },
   "file_extension": ".py",
   "mimetype": "text/x-python",
   "name": "python",
   "nbconvert_exporter": "python",
   "pygments_lexer": "ipython3",
   "version": "3.9.13"
  }
 },
 "nbformat": 4,
 "nbformat_minor": 4
}
