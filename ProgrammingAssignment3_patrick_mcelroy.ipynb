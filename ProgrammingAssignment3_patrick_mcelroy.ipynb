{
 "cells": [
  {
   "cell_type": "markdown",
   "metadata": {},
   "source": [
    "# Programming Assignment - 3\n",
    "---\n",
    "\n",
    "## Name:\n"
   ]
  },
  {
   "cell_type": "code",
   "execution_count": 248,
   "metadata": {},
   "outputs": [],
   "source": [
    "#Import required packages here\n",
    "import numpy as np"
   ]
  },
  {
   "cell_type": "markdown",
   "metadata": {},
   "source": [
    "## Question 1\n",
    "\n",
    "Use the Gaussian elimination with scaled row-partial pivoting code to answer the following."
   ]
  },
  {
   "cell_type": "code",
   "execution_count": 249,
   "metadata": {},
   "outputs": [],
   "source": [
    "## Gaussian Elimination: Scaled Row Pivoting\n",
    "## This function is based on the pseudo-code on page-148 in the Text by Kincaid and Cheney\n",
    "def GE_srpp(X, verbose=False):\n",
    "    '''\n",
    "    This function returns the P'LU factorization of a square matrix A\n",
    "    by scaled row partial pivoting. \n",
    "    In place of returning L and U, elements of modified A are used to hold values of L and U.\n",
    "    '''\n",
    "    A = np.copy(X)\n",
    "    m,n = A.shape\n",
    "    swap=0;\n",
    "    \n",
    "    # The initial ordering of rows\n",
    "    p = list(range(m))\n",
    "    if verbose:\n",
    "        print(\"permutation vector initialized to: \",p)\n",
    "    \n",
    "    # Scaling vector: absolute maximum elements of each row\n",
    "    s = np.max(np.abs(A), axis=1) \n",
    "    \n",
    "    # Start the k-1 passes of Guassian Elimination on A\n",
    "    for k in range(m-1):              \n",
    "        if verbose:\n",
    "            print(\"Scaling Vector: \",s)\n",
    "        # Find the pivot element and interchange the rows\n",
    "        pivot_index = k + np.argmax(np.abs(A[p[k:], k])/s[p[k:]])        \n",
    "        \n",
    "        # Interchange elements in the permutation vector if needed\n",
    "        if pivot_index !=k:\n",
    "            temp = p[k]\n",
    "            p[k]=p[pivot_index]\n",
    "            p[pivot_index] = temp\n",
    "            swap+=1;\n",
    "                        \n",
    "        if verbose:\n",
    "            print(\"\\nPivot Element: {0:.4f} \\n\".format(A[p[k],k]))\n",
    "        if np.abs(A[p[k],k]) < 10**(-20):\n",
    "             sys.exit(\"ERROR!! Provided matrix is singular or there is a zero pivot.\")        \n",
    "        # Check the new order of rows\n",
    "        if verbose:\n",
    "            print(\"permutation vector: \",p)\n",
    "        # For the k-th pivot row Perform the Gaussian elimination on the following rows\n",
    "        for i in range(k+1, m):\n",
    "            # Find the multiplier\n",
    "            z = A[p[i],k]/A[p[k],k]\n",
    "            \n",
    "            #Save the multiplier z in A itself. You can save this in L also\n",
    "            A[p[i],k] = z\n",
    "            \n",
    "            #Elimination operation: Changes all elements in a row simultaneously\n",
    "            A[p[i],k+1:] = A[p[i],k+1:] - z*A[p[k],k+1:]\n",
    "            \n",
    "        if verbose:\n",
    "            print(\"\\n After PASS {}=========: \\n\".format(k+1), A)\n",
    "    return A, p, swap"
   ]
  },
  {
   "cell_type": "code",
   "execution_count": 250,
   "metadata": {},
   "outputs": [
    {
     "name": "stdout",
     "output_type": "stream",
     "text": [
      "\n",
      " Given A: \n",
      "  [[ 2.  3. -6.]\n",
      " [ 1. -6.  8.]\n",
      " [ 3. -2.  1.]]\n",
      "\n",
      " After Gaussian Elimination with RSPP: \n",
      " [[ 0.66666667  4.33333333 -6.66666667]\n",
      " [ 0.33333333 -1.23076923 -0.53846154]\n",
      " [ 3.         -2.          1.        ]]\n",
      "\n",
      " The permutation Vector is: \n",
      " [2, 0, 1]\n"
     ]
    }
   ],
   "source": [
    "## Example on page number 146 (Kincaid Cheney).\n",
    "## Example solved manually in class\n",
    "A = np.array([[2, 3, -6], [1,-6,8], [3, -2, 1]], dtype=float)\n",
    "print(\"\\n Given A: \\n \",A)\n",
    "A,p,swap =GE_srpp(A)\n",
    "print(\"\\n After Gaussian Elimination with RSPP: \\n\", A)\n",
    "print(\"\\n The permutation Vector is: \\n\", p)"
   ]
  },
  {
   "cell_type": "markdown",
   "metadata": {},
   "source": [
    ">- (A) Modify this code to write a function that solves a linear system Ax =b.  Test this in the case when   $𝑏=[3,1,1]^T$, and the matrix $A = [1~ 6 ~0; 2~ 1~ 0; 0 ~2~ 1]$. Only display the solution in the output."
   ]
  },
  {
   "cell_type": "code",
   "execution_count": 251,
   "metadata": {},
   "outputs": [
    {
     "data": {
      "text/plain": [
       "array([[0.27272727],\n",
       "       [0.45454545],\n",
       "       [0.09090909]])"
      ]
     },
     "execution_count": 251,
     "metadata": {},
     "output_type": "execute_result"
    }
   ],
   "source": [
    "def GE_srpp(X, verbose=False):\n",
    "    '''\n",
    "    This function returns the P'LU factorization of a square matrix A\n",
    "    by scaled row partial pivoting. \n",
    "    In place of returning L and U, elements of modified A are used to hold values of L and U.\n",
    "    '''\n",
    "    A = np.copy(X)\n",
    "    m,n = A.shape\n",
    "    swap=0;\n",
    "    \n",
    "    # The initial ordering of rows\n",
    "    p = list(range(m))\n",
    "    if verbose:\n",
    "        print(\"permutation vector initialized to: \",p)\n",
    "    \n",
    "    # Scaling vector: absolute maximum elements of each row\n",
    "    s = np.max(np.abs(A), axis=1) \n",
    "    \n",
    "    # Start the k-1 passes of Guassian Elimination on A\n",
    "    for k in range(m-1):              \n",
    "        if verbose:\n",
    "            print(\"Scaling Vector: \",s)\n",
    "        # Find the pivot element and interchange the rows\n",
    "        pivot_index = k + np.argmax(np.abs(A[p[k:], k])/s[p[k:]])        \n",
    "        \n",
    "        # Interchange elements in the permutation vector if needed\n",
    "        if pivot_index !=k:\n",
    "            temp = p[k]\n",
    "            p[k]=p[pivot_index]\n",
    "            p[pivot_index] = temp\n",
    "            swap+=1;\n",
    "                        \n",
    "        if verbose:\n",
    "            print(\"\\nPivot Element: {0:.4f} \\n\".format(A[p[k],k]))\n",
    "        if np.abs(A[p[k],k]) < 10**(-20):\n",
    "             sys.exit(\"ERROR!! Provided matrix is singular or there is a zero pivot.\")        \n",
    "        # Check the new order of rows\n",
    "        if verbose:\n",
    "            print(\"permutation vector: \",p)\n",
    "        # For the k-th pivot row Perform the Gaussian elimination on the following rows\n",
    "        for i in range(k+1, m):\n",
    "            # Find the multiplier\n",
    "            z = A[p[i],k]/A[p[k],k]\n",
    "            \n",
    "            #Save the multiplier z in A itself. You can save this in L also\n",
    "            A[p[i],k] = z\n",
    "            \n",
    "            #Elimination operation: Changes all elements in a row simultaneously\n",
    "            A[p[i],k+1:] = A[p[i],k+1:] - z*A[p[k],k+1:]\n",
    "            \n",
    "        if verbose:\n",
    "            print(\"\\n After PASS {}=========: \\n\".format(k+1), A)\n",
    "        \n",
    "        m=A.shape[0]\n",
    "        U = np.triu(A[p,:])\n",
    "    return A, p, swap, U\n",
    "\n",
    "\n",
    "X = np.array([[1, 6, 0],\n",
    "              [2, 1, 0], \n",
    "              [0, 2, 1]], dtype = float)\n",
    "b = np.array([3, 1, 1], dtype = float).reshape(3, -1)\n",
    "AugA = np.hstack((X, b))\n",
    "\n",
    "def back_sub(U, b):\n",
    "    #Check for A being upper triangular\n",
    "    ## Or maybe not\n",
    "    n = U.shape[0]\n",
    "    #Solution will be saved in variable x\n",
    "    x = np.zeros_like(b, dtype=float)\n",
    "\n",
    "    #Back-substitution\n",
    "    ##last variable is found first\n",
    "    x[n-1] = b[n-1] / U[n-1,n-1]\n",
    "    ## Find the remaining n-1 variables from last to first\n",
    "    for k in range(n-2,-1,-1):\n",
    "        known_sums = np.dot(U[k,k+1:],x[k+1:])\n",
    "        x[k] = (b[k] - known_sums) / U[k,k]\n",
    "     \n",
    "    return x\n",
    "\n",
    "A, p, swap, U = GE_srpp(AugA, verbose = False)\n",
    "bnew = U[:, 3]\n",
    "Unew = U[:, [0, 1, 2]]\n",
    "back_sub(Unew, bnew).reshape(3, -1)"
   ]
  },
  {
   "cell_type": "markdown",
   "metadata": {},
   "source": [
    ">- (B) Modify this code to find the determinant of any square matrix A. Note that \n",
    "$$PA = LU \\Rightarrow \\text{det} A  = \\pm \\text{det} U .$$\n",
    "The sign depends of the number of row-swaps in the elimination process.  Use this code to find the determinant of any $10 \\times 10$ matrix that you randomly generate. Compare your result with the built-in NumPy method."
   ]
  },
  {
   "cell_type": "code",
   "execution_count": 257,
   "metadata": {},
   "outputs": [
    {
     "name": "stdout",
     "output_type": "stream",
     "text": [
      "360000\n"
     ]
    }
   ],
   "source": [
    "#Your code comes here\n",
    "\n",
    "def det(A):\n",
    "    m,n = A.shape\n",
    "    newA, p, swap, U = GE_srpp(A)\n",
    "    U = np.triu(newA[p,:])\n",
    "    det = np.prod(np.diag(U))\n",
    "    if swap % 2 == 0:\n",
    "        det = det\n",
    "    else:\n",
    "        det = -1 * det\n",
    "    return det\n",
    "        \n",
    "B = np.random.randint(1, 9, (10, 10))\n",
    "\n",
    "print(det(B))"
   ]
  },
  {
   "cell_type": "markdown",
   "metadata": {},
   "source": [
    ">- (C) Modify the system-solver that you have created to find the inverse of a square matrix. Use this code to display the inverse of  A = [1 6 0; 2 1 0; 0 2 1]."
   ]
  },
  {
   "cell_type": "code",
   "execution_count": 253,
   "metadata": {},
   "outputs": [
    {
     "data": {
      "text/plain": [
       "array([[-0.09090909,  0.54545455,  0.        ],\n",
       "       [ 0.18181818, -0.09090909,  0.        ],\n",
       "       [-0.36363636,  0.18181818,  1.        ]])"
      ]
     },
     "execution_count": 253,
     "metadata": {},
     "output_type": "execute_result"
    }
   ],
   "source": [
    "# Your code comes here\n",
    "X = np.array([[1, 6, 0],\n",
    "              [2, 1, 0], \n",
    "              [0, 2, 1]], dtype = float)\n",
    "\n",
    "AugX = np.hstack((X, np.eye(3)))\n",
    "\n",
    "A, p, swap, U = GE_srpp(AugX)\n",
    "\n",
    "bnew = U[:, [3, 4, 5]]\n",
    "\n",
    "Unew1 = U[:, [0, 1, 2]]\n",
    "bnew[:, [0]]\n",
    "\n",
    "for i in range(3):\n",
    "    x.append(back_sub(Unew1, bnew[:, [i]]))\n",
    "\n",
    "invX = np.hstack((x[0], x[1], x[2]))\n",
    "invX"
   ]
  },
  {
   "cell_type": "code",
   "execution_count": null,
   "metadata": {},
   "outputs": [],
   "source": []
  }
 ],
 "metadata": {
  "kernelspec": {
   "display_name": "Python 3 (ipykernel)",
   "language": "python",
   "name": "python3"
  },
  "language_info": {
   "codemirror_mode": {
    "name": "ipython",
    "version": 3
   },
   "file_extension": ".py",
   "mimetype": "text/x-python",
   "name": "python",
   "nbconvert_exporter": "python",
   "pygments_lexer": "ipython3",
   "version": "3.9.13"
  }
 },
 "nbformat": 4,
 "nbformat_minor": 4
}
